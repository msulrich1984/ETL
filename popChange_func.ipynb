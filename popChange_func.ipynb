{
 "cells": [
  {
   "cell_type": "code",
   "execution_count": null,
   "metadata": {},
   "outputs": [],
   "source": [
    "# determine total poputlation change\n",
    "# define a function to calculate the change amount\n",
    "def popChange (row):\n",
    "    num1 = row['POPESTIMATE2016']\n",
    "    num2 = row['POPESTIMATE2010']\n",
    "    change = num1 - num2\n",
    "    \n",
    "    return change"
   ]
  },
  {
   "cell_type": "code",
   "execution_count": null,
   "metadata": {},
   "outputs": [],
   "source": [
    "# use popChange() function to create new TOTALPOPCHG column showing result \n",
    "\n",
    "pop_underscoredata_df['TOTALPOPCHG'] = pop_underscoredata_df.apply (lambda row: popChange (row),axis=1)\n",
    "\n",
    "pop_underscoredata_df.head()"
   ]
  }
 ],
 "metadata": {
  "kernelspec": {
   "display_name": "Python 3",
   "language": "python",
   "name": "python3"
  },
  "language_info": {
   "codemirror_mode": {
    "name": "ipython",
    "version": 3
   },
   "file_extension": ".py",
   "mimetype": "text/x-python",
   "name": "python",
   "nbconvert_exporter": "python",
   "pygments_lexer": "ipython3",
   "version": "3.6.8"
  }
 },
 "nbformat": 4,
 "nbformat_minor": 2
}
